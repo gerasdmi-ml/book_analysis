{
 "cells": [
  {
   "cell_type": "code",
   "execution_count": 1,
   "id": "b5092855-b482-4117-89e7-c855dfb65e29",
   "metadata": {},
   "outputs": [
    {
     "data": {
      "text/plain": [
       "4241"
      ]
     },
     "execution_count": 1,
     "metadata": {},
     "output_type": "execute_result"
    }
   ],
   "source": [
    "import pandas as pd\n",
    "import re\n",
    "\n",
    "# прочитаем все файлы\n",
    "df1 = pd.read_csv('1.tsv', sep='\\t')  # 1) Советский период\n",
    "df2 = pd.read_csv('2.tsv', sep='\\t')  # 2) 1990-е годы\n",
    "df3 = pd.read_csv('3.tab', sep='\\t')  # 3) Постсоветский период \n",
    "\n",
    "# включим уникальный номер для каждого датасета для облегчения иденттификации\n",
    "df1['uid']='1_'+df1.index.astype(str)\n",
    "df2['uid']='2_'+df2.index.astype(str)\n",
    "df3['uid']='3_'+df3.index.astype(str)\n",
    "\n",
    "# ручные правки\n",
    "df2.loc[df2['uid']==2_10615,'author (автор)']=''\n",
    "df2.loc[df2['uid']==2_10615,'summary (примечание)']='пер. А.С. Пушкина'\n",
    "df2.loc[df2['uid']==2_12698,'author (автор)']=''\n",
    "df2.loc[df2['uid']==2_12698,'summary (примечание)']='Сост. В. Аникин; Б. Шергин'\n",
    "df2.loc[df2['uid']==2_12881,'author (автор)']=''\n",
    "df2.loc[df2['uid']==2_12881,'summary (примечание)']='Сост. В.П. Аникин'\n",
    "df2.loc[df2['uid']==2_12883,'author (автор)']=''\n",
    "df2.loc[df2['uid']==2_12883,'summary (примечание)']='Сост. Ю.П. Круглов'\n",
    "\n",
    "# сделаем четкий и универсальный признак обязательности 0 и 1\n",
    "df1['oblig'] = df1.apply(lambda row: 0 if row['priority'] == '*' else 1, axis=1)   # устанавливаем 0 для *... астериском помечены необязательные\n",
    "df2['oblig'] = df2.apply(lambda row: 1 if row['priority (обязательное или нет)'] == '' else 0, axis=1)   # если ['priority (обязательное или нет)'] == '' то 1  \n",
    "df3['oblig'] = df3.apply(lambda row: 1 if (row['oblig_title'] == 'да') else 0, axis=1) # если ['oblig_title'] == 'да' то 1  \n",
    "\n",
    "# переименуем под единые названия author, title, grade, year, в первом датасете уже все хорошо\n",
    "df2.columns = ['author', 'title', 'comment (раздел)', 'curriculum','id', 'year', 'grade','priority (обязательное или нет)', 'first publication', 'quantity','summary (примечание)', 'uid', 'oblig']\n",
    "df3.columns = ['source_id', 'year', 'group', 'century', 'author', 'title',\n",
    "       'genre', 'type', 'oblig_author', 'oblig_title', 'grade', 'section',\n",
    "       'number_authors', 'number_titles', 'profound', 'source_issue',\n",
    "       'title_cycle', 'notes', 'uid', 'oblig']\n",
    "\n",
    "# выбросим то, что не читается по годам (1937-38) и оставим только свой период для каждого датасета\n",
    "df1 = df1[pd.to_numeric(df1['year'], errors='coerce').notnull()]\n",
    "df1 = df1[(df1['year'].astype(int) >= 1974) & (df1['year'].astype(int) <= 1991)]\n",
    "df2 = df2[pd.to_numeric(df2['year'], errors='coerce').notnull()]\n",
    "df2 = df2[(df2['year'].astype(int) >= 1992) & (df2['year'].astype(int) <= 1997)]\n",
    "df3 = df3[pd.to_numeric(df3['year'], errors='coerce').notnull()]\n",
    "df3 = df3[(df3['year'].astype(int) >= 1998) & (df3['year'].astype(int) <= 2022)]\n",
    "\n",
    "# пока оставим только 6 полей для обработкти  uid, author, title, grade, year, oblig - остальные поля подключим после объедиения через uid\n",
    "columns_req = ['uid','author', 'title', 'grade', 'year', 'oblig']\n",
    "concatenated_df = pd.concat([df1[columns_req], df2[columns_req], df3[columns_req]], ignore_index=True)\n",
    "\n",
    "# экспериментальная часть с инициалами - в конечном итоге выбрали ручную чистку авторов\n",
    "def replace_capital_letter_with_space(s):\n",
    "    out = re.sub(r'([А-Я])\\.', r' ', s)\n",
    "    out = re.sub(r'\\s', '', out)\n",
    "    out = out.lower()\n",
    "    return out\n",
    "#concatenated_df['author'] = concatenated_df['author'].astype(str).apply(lambda x: replace_capital_letter_with_space(x))\n",
    "concatenated_df.to_csv('concatenated.csv', index = False)\n",
    "\n",
    "#сохраним в grade_mistakes некорректные значения\n",
    "concatenated_df[pd.to_numeric(concatenated_df['grade'], errors='coerce').isna()].to_csv('grade_mistakes.csv', index = False)\n",
    "\n",
    "# выведем по комбинации 'author' +  'title'  все вхождения uid\n",
    "result_df = concatenated_df.groupby(['author', 'title'])['uid'].agg(lambda x: ', '.join(map(str, x))).reset_index()\n",
    "result_df.rename(columns={'group': 'result'}, inplace=True)\n",
    "result_df.to_csv('grouped.csv', index = False)\n",
    "\n",
    "len(result_df)  # 4241\n"
   ]
  },
  {
   "cell_type": "code",
   "execution_count": 43,
   "id": "46acf40e-3482-4390-aeba-5e0e4eb80ea2",
   "metadata": {},
   "outputs": [
    {
     "data": {
      "text/plain": [
       "3536"
      ]
     },
     "execution_count": 43,
     "metadata": {},
     "output_type": "execute_result"
    }
   ],
   "source": [
    "import re\n",
    "import pandas as pd\n",
    "\n",
    "# перечитаем concatenated_5.csv с ручными правками \n",
    "concatenated_df5 =  pd.read_csv('concatenated_5.csv', sep=';')\n",
    "\n",
    "# заменим Фамилия И.О. на Фамилия И. О. — с пробелом между инициалами\n",
    "def add_space_after_capital_and_dot(s):\n",
    "    # Use a regular expression to add a space after capital letter and dot (if not last symbol)\n",
    "    out = re.sub(r'([А-Я])\\.(?=[^. ])', r'\\1. ', s)\n",
    "    return out.rstrip()\n",
    "\n",
    "# отбросим финальные пробелы\n",
    "def remove_space(s):\n",
    "    return s.rstrip()\n",
    "    \n",
    "concatenated_df5['author'] = concatenated_df5['author'].astype(str).apply(lambda x: add_space_after_capital_and_dot(x))\n",
    "concatenated_df5['title'] = concatenated_df5['title'].astype(str).apply(lambda x: remove_space(x))\n",
    "    \n",
    "# выведем по комбинации 'author' +  'title'  все вхождения uid\n",
    "result_df5 = concatenated_df5.groupby(['author', 'title'])['uid'].agg(lambda x: ', '.join(map(str, x))).reset_index()\n",
    "result_df5.rename(columns={'group': 'result'}, inplace=True)\n",
    "result_df5.to_csv('grouped5.csv', index = False)\n",
    "\n",
    "len(result_df5) # 3536"
   ]
  },
  {
   "cell_type": "code",
   "execution_count": 5,
   "id": "84809d9a-187d-4f17-91f6-944cca7d3e82",
   "metadata": {},
   "outputs": [
    {
     "data": {
      "text/html": [
       "<div>\n",
       "<style scoped>\n",
       "    .dataframe tbody tr th:only-of-type {\n",
       "        vertical-align: middle;\n",
       "    }\n",
       "\n",
       "    .dataframe tbody tr th {\n",
       "        vertical-align: top;\n",
       "    }\n",
       "\n",
       "    .dataframe thead th {\n",
       "        text-align: right;\n",
       "    }\n",
       "</style>\n",
       "<table border=\"1\" class=\"dataframe\">\n",
       "  <thead>\n",
       "    <tr style=\"text-align: right;\">\n",
       "      <th></th>\n",
       "      <th>author</th>\n",
       "      <th>title</th>\n",
       "      <th>comment (раздел)</th>\n",
       "      <th>curriculum</th>\n",
       "      <th>id</th>\n",
       "      <th>year</th>\n",
       "      <th>grade</th>\n",
       "      <th>priority (обязательное или нет)</th>\n",
       "      <th>first publication</th>\n",
       "      <th>quantity</th>\n",
       "      <th>summary (примечание)</th>\n",
       "      <th>uid</th>\n",
       "      <th>oblig</th>\n",
       "    </tr>\n",
       "  </thead>\n",
       "  <tbody>\n",
       "    <tr>\n",
       "      <th>11142</th>\n",
       "      <td>Андреев Л.Н.</td>\n",
       "      <td>Иуда Искариот</td>\n",
       "      <td>русская</td>\n",
       "      <td>NaN</td>\n",
       "      <td>NaN</td>\n",
       "      <td>1992</td>\n",
       "      <td>11</td>\n",
       "      <td>самостоятельно</td>\n",
       "      <td>NaN</td>\n",
       "      <td>не найден</td>\n",
       "      <td>NaN</td>\n",
       "      <td>2_11142</td>\n",
       "      <td>0</td>\n",
       "    </tr>\n",
       "  </tbody>\n",
       "</table>\n",
       "</div>"
      ],
      "text/plain": [
       "             author          title comment (раздел) curriculum  id  year   \n",
       "11142  Андреев Л.Н.  Иуда Искариот          русская        NaN NaN  1992  \\\n",
       "\n",
       "      grade priority (обязательное или нет) first publication   quantity   \n",
       "11142    11                  самостоятельно               NaN  не найден  \\\n",
       "\n",
       "      summary (примечание)      uid  oblig  \n",
       "11142                  NaN  2_11142      0  "
      ]
     },
     "execution_count": 5,
     "metadata": {},
     "output_type": "execute_result"
    }
   ],
   "source": [
    "df2.loc[df2['uid']=='2_11142']"
   ]
  }
 ],
 "metadata": {
  "kernelspec": {
   "display_name": "Python 3 (ipykernel)",
   "language": "python",
   "name": "python3"
  },
  "language_info": {
   "codemirror_mode": {
    "name": "ipython",
    "version": 3
   },
   "file_extension": ".py",
   "mimetype": "text/x-python",
   "name": "python",
   "nbconvert_exporter": "python",
   "pygments_lexer": "ipython3",
   "version": "3.9.16"
  }
 },
 "nbformat": 4,
 "nbformat_minor": 5
}
